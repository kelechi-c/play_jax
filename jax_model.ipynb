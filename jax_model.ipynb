{
 "cells": [
  {
   "cell_type": "code",
   "execution_count": 1,
   "metadata": {},
   "outputs": [],
   "source": [
    "import flax\n",
    "import jax\n",
    "import numpy as np \n",
    "import jax.numpy as jnp\n",
    "import optax\n",
    "from flax import nnx, linen as lnn\n",
    "from flax.training import train_state\n",
    "from sklearn.preprocessing import LabelEncoder"
   ]
  },
  {
   "cell_type": "code",
   "execution_count": null,
   "metadata": {},
   "outputs": [],
   "source": [
    "class Convnet(lnn.module):\n",
    "\n",
    "    @lnn.compact\n",
    "    def __call__(self, img):\n",
    "        x = lnn.Conv(features=32, kernel_size=(3, 3))(img)\n",
    "        x = lnn.relu(x)\n",
    "        x = lnn.avg_pool(x, window_shape=(2, 2), strides=(2, 2))\n",
    "        x = lnn.Conv(features=64, kernel_size=(3, 3))(x)\n",
    "        x = lnn.relu(x)\n",
    "        x = lnn.avg_pool(x, window_shape=(2, 2), strides=(2, 2))\n",
    "        x = x.reshape((x.shape[0], -1))\n",
    "        x = lnn.Dense(features=256)(x)\n",
    "        x = lnn.relu(x)\n",
    "        x = lnn.Dense(features=10)(x)\n",
    "\n",
    "        return x"
   ]
  },
  {
   "cell_type": "code",
   "execution_count": null,
   "metadata": {},
   "outputs": [],
   "source": [
    "image_size = 200\n",
    "batch_size = 32\n",
    "learn_rate = 0.01"
   ]
  },
  {
   "cell_type": "code",
   "execution_count": null,
   "metadata": {},
   "outputs": [],
   "source": [
    "def cross_entropy(*, logits, labels):\n",
    "    encoded_labels = jax.nn.one_hot(labels, num_classes=38)\n",
    "    ce_loss = optax.softmax_cross_entropy(logits=logits, labels=encoded_labels)\n",
    "\n",
    "    return ce_loss.mean()\n",
    "\n",
    "\n",
    "def compute_model_metrics(images, labels, params):\n",
    "    logits = Convnet().apply({\"params\": params}, images)\n",
    "    loss = cross_entropy(logits, labels)\n",
    "    accuracy = jnp.mean(jnp.argmax(logits, -1) == labels)\n",
    "\n",
    "    metrics = {\"loss\": loss, \"accuracy\": accuracy}\n",
    "\n",
    "    return metrics    \n",
    "\n",
    "\n",
    "def init_train_state(rng, lr=learn_rate):\n",
    "    convnet = Convnet()\n",
    "    params = convnet.init(rng, jnp.ones([1, image_size, image_size, 3]))['params']\n",
    "    tx = optax.adam(learning_rate=lr)\n",
    "    \n",
    "    train_state = train_state.TrainState.create(apply_fn=convnet.apply, params=params, tx=tx)\n",
    "    \n",
    "    return train_state"
   ]
  },
  {
   "cell_type": "code",
   "execution_count": null,
   "metadata": {},
   "outputs": [],
   "source": [
    "@jax.jit\n",
    "def train_step(state, batch):\n",
    "    \n",
    "    "
   ]
  }
 ],
 "metadata": {
  "kernelspec": {
   "display_name": "Python 3",
   "language": "python",
   "name": "python3"
  },
  "language_info": {
   "codemirror_mode": {
    "name": "ipython",
    "version": 3
   },
   "file_extension": ".py",
   "mimetype": "text/x-python",
   "name": "python",
   "nbconvert_exporter": "python",
   "pygments_lexer": "ipython3",
   "version": "3.10.12"
  }
 },
 "nbformat": 4,
 "nbformat_minor": 2
}
